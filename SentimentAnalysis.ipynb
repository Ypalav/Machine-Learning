{
 "cells": [
  {
   "cell_type": "markdown",
   "metadata": {},
   "source": [
    "# <u>Sentiment Analysis</u>:"
   ]
  },
  {
   "cell_type": "markdown",
   "metadata": {},
   "source": [
    "# <u>Project Members</u>:\n",
    "## Anup Deulgaonkar\n",
    "## Subhadeep Roy\n",
    "## Yogesh Palav"
   ]
  },
  {
   "cell_type": "markdown",
   "metadata": {},
   "source": [
    "## <u>Project Description</u>:\n",
    "### Building a Sentiment Analysis Framework which could classify reviews into Labels such as Positive, Negative or Neutral. We collected data from multiple domains."
   ]
  },
  {
   "cell_type": "markdown",
   "metadata": {},
   "source": [
    "## Corpus\n",
    "https://dl.dropboxusercontent.com/u/89582947/Dataset/train.zip"
   ]
  },
  {
   "cell_type": "code",
   "execution_count": 17,
   "metadata": {
    "collapsed": false
   },
   "outputs": [
    {
     "name": "stdout",
     "output_type": "stream",
     "text": [
      "Wall time: 58.8 s\n"
     ]
    }
   ],
   "source": [
    "%%time\n",
    "# Import File and Packages\n",
    "import sklearn\n",
    "import matplotlib.pyplot as plt\n",
    "import pandas as pd\n",
    "import numpy as np\n",
    "%matplotlib inline\n",
    "import re\n",
    "import warnings\n",
    "warnings.filterwarnings(\"ignore\")\n",
    "import glob\n",
    "from pandas import read_csv\n",
    "\n",
    "all_files = glob.glob(\".\\\\aclImdb\\\\train\\\\neg\\\\*.txt\")\n",
    "df_neg = pd.concat((pd.read_csv(f, sep=';*;;', header = None, quoting=3 , encoding='utf-8') for f in all_files))\n",
    "df_neg.columns = ['data']\n",
    "df_neg['target']=np.zeros((df_neg.shape[0],1))\n",
    "neg_len=len(all_files)\n",
    "all_files = glob.glob(\".\\\\aclImdb\\\\train\\\\pos\\\\*.txt\")\n",
    "df_pos = pd.concat((pd.read_csv(f, sep=';*;;', header = None, quoting=3 , encoding='utf-8') for f in all_files))\n",
    "df_pos.columns = ['data']\n",
    "df_pos['target']=np.ones((df_pos.shape[0],1))\n",
    "pos_len=len(all_files)\n",
    "frames = [df_neg, df_pos]\n",
    "df = pd.concat(frames)\n",
    "df.columns = ['data','target']"
   ]
  },
  {
   "cell_type": "code",
   "execution_count": 18,
   "metadata": {
    "collapsed": false
   },
   "outputs": [
    {
     "name": "stdout",
     "output_type": "stream",
     "text": [
      "12500 12500\n"
     ]
    }
   ],
   "source": [
    "print(pos_len, neg_len)"
   ]
  },
  {
   "cell_type": "markdown",
   "metadata": {},
   "source": [
    "### Load and preprocess data using NLTK:\n",
    "##### Tokenize, Clean, Stem, Lemmatize, Remove stopwords"
   ]
  },
  {
   "cell_type": "code",
   "execution_count": 19,
   "metadata": {
    "collapsed": true
   },
   "outputs": [],
   "source": [
    "# Preprocess the data {'negative': 0 , 'positive': 1 , 'neutral': 2}\n",
    "\n",
    "#df=tweet.iloc[:,(10,1)]\n",
    "#df.columns = ['data', 'target']\n",
    "#df['target']=df['target'].str.strip().str.lower()\n",
    "#df['target']=df['target'].map({'negative': 0 , 'positive': 1 , 'neutral': 2})\n",
    "\n",
    "# Copy df to a temporary dataframe for pre-processing\n",
    "# Below assignment is causing problems\n",
    "dft=df"
   ]
  },
  {
   "cell_type": "code",
   "execution_count": 20,
   "metadata": {
    "collapsed": false
   },
   "outputs": [
    {
     "name": "stdout",
     "output_type": "stream",
     "text": [
      "Wall time: 37.4 s\n"
     ]
    }
   ],
   "source": [
    "%%time\n",
    "# Remove @tweets, numbers, hyperlinks that do not start with letters\n",
    "dft['data']=dft['data'].str.replace(\"(@[A-Za-z0-9]+)|([^0-9A-Za-z \\t])|(\\w+:\\/\\/\\S+)|([0-9])\",\" \")\n",
    "\n",
    "# tokenize into words\n",
    "import nltk\n",
    "dft['data']=dft['data'].apply(nltk.word_tokenize)"
   ]
  },
  {
   "cell_type": "code",
   "execution_count": 21,
   "metadata": {
    "collapsed": false
   },
   "outputs": [
    {
     "name": "stdout",
     "output_type": "stream",
     "text": [
      "Wall time: 1min 59s\n"
     ]
    }
   ],
   "source": [
    "%%time\n",
    "# stem the tokens\n",
    "from nltk.stem.snowball import SnowballStemmer\n",
    "stemmer = SnowballStemmer('english')\n",
    "dft['data']=dft['data'].apply(lambda x: [stemmer.stem(y) for y in x])"
   ]
  },
  {
   "cell_type": "code",
   "execution_count": 22,
   "metadata": {
    "collapsed": false
   },
   "outputs": [
    {
     "name": "stdout",
     "output_type": "stream",
     "text": [
      "Wall time: 40.4 s\n"
     ]
    }
   ],
   "source": [
    "%%time\n",
    "# Lemmatizing\n",
    "lemmatizer = nltk.WordNetLemmatizer()\n",
    "dft['data']=dft['data'].apply(lambda x: [lemmatizer.lemmatize(y) for y in x])"
   ]
  },
  {
   "cell_type": "code",
   "execution_count": 23,
   "metadata": {
    "collapsed": false
   },
   "outputs": [
    {
     "name": "stdout",
     "output_type": "stream",
     "text": [
      "Wall time: 1min 16s\n"
     ]
    }
   ],
   "source": [
    "%%time\n",
    "# Remove stopwords\n",
    "stopwords = nltk.corpus.stopwords.words('english')\n",
    "\n",
    "# stem the stopwords\n",
    "stemmed_stops = [stemmer.stem(t) for t in stopwords]\n",
    "\n",
    "# remove stopwords from stemmed/lemmatized tokens\n",
    "dft['data']=dft['data'].apply(lambda x: [stemmer.stem(y) for y in x if y not in stemmed_stops])\n",
    "\n",
    "# remove words whose length is <3\n",
    "dft['data']=dft['data'].apply(lambda x: [e for e in x if len(e) >= 3])"
   ]
  },
  {
   "cell_type": "code",
   "execution_count": 24,
   "metadata": {
    "collapsed": false
   },
   "outputs": [
    {
     "name": "stdout",
     "output_type": "stream",
     "text": [
      "Wall time: 260 ms\n"
     ]
    }
   ],
   "source": [
    "%%time\n",
    "# Detokenize cleaned dataframe for vectorizing\n",
    "dft['data']=dft['data'].str.join(\" \")"
   ]
  },
  {
   "cell_type": "markdown",
   "metadata": {},
   "source": [
    "### Printing data shape:"
   ]
  },
  {
   "cell_type": "code",
   "execution_count": 25,
   "metadata": {
    "collapsed": false
   },
   "outputs": [
    {
     "data": {
      "text/plain": [
       "<Container object of 2 artists>"
      ]
     },
     "execution_count": 25,
     "metadata": {},
     "output_type": "execute_result"
    },
    {
     "data": {
      "image/png": "[encoded data removed]",
      "text/plain": [
       "<matplotlib.figure.Figure at 0x28ee9b2ae80>"
      ]
     },
     "metadata": {},
     "output_type": "display_data"
    }
   ],
   "source": [
    "x=[0,1]\n",
    "y=[neg_len, pos_len]\n",
    "plt.figure(1,figsize=(8, 8))\n",
    "plt.xlabel('Label')\n",
    "plt.ylabel('Count of Labels')\n",
    "plt.title('Count of Target Variables')\n",
    "plt.bar(x, y,color='g')\n",
    "#plt.xticks(x, ,rotation=90)"
   ]
  },
  {
   "cell_type": "markdown",
   "metadata": {},
   "source": [
    "### Print top features with frequency:"
   ]
  },
  {
   "cell_type": "code",
   "execution_count": 26,
   "metadata": {
    "collapsed": false
   },
   "outputs": [
    {
     "data": {
      "image/png": "[encoded data removed]",
      "text/plain": [
       "<matplotlib.figure.Figure at 0x28ee9afde48>"
      ]
     },
     "metadata": {},
     "output_type": "display_data"
    }
   ],
   "source": [
    "from sklearn.feature_extraction.text import TfidfVectorizer\n",
    "def print_top_words():    \n",
    "    # Print top words\n",
    "    vect = TfidfVectorizer(stop_words='english',analyzer=\"word\",min_df = 2, max_df = 0.8)\n",
    "    data_dtm = vect.fit_transform(dft['data'])\n",
    "    feat_dtm = vect.get_feature_names()\n",
    "\n",
    "    # Count words\n",
    "    freq_tbl=pd.DataFrame({'Word':feat_dtm,'Occurence':np.asarray(data_dtm.sum(axis=0)).ravel().tolist()})\n",
    "    freq_tbl['Word']=freq_tbl['Word'].str.strip()\n",
    "\n",
    "    # Print top words\n",
    "    topt = freq_tbl.sort(['Occurence'], ascending=[False]).head(10)\n",
    "    y = topt['Occurence']\n",
    "    plt.grid()\n",
    "    X = range(1, 11)\n",
    "    plt.bar(X,y,color='g')\n",
    "    plt.xlabel('Top words')\n",
    "    plt.ylabel('Occurence')\n",
    "    plt.title('Frequency of top 10 words')\n",
    "    plt.xticks(X,topt['Word'],rotation=90)\n",
    "    \n",
    "def print_top_neg_words():    \n",
    "    # Print top negative words\n",
    "    vect = TfidfVectorizer(stop_words='english',analyzer=\"word\",min_df = 2, max_df = 0.8)\n",
    "    filt = dft[dft['target'] == 0]\n",
    "    data_dtm = vect.fit_transform(filt['data'])\n",
    "    feat_dtm = vect.get_feature_names()\n",
    "\n",
    "    # Count words\n",
    "    freq_tbl=pd.DataFrame({'Word':feat_dtm,'Occurence':np.asarray(data_dtm.sum(axis=0)).ravel().tolist()})\n",
    "    freq_tbl['Word']=freq_tbl['Word'].str.strip()\n",
    "\n",
    "    # Print top negative words\n",
    "    topt = freq_tbl.sort(['Occurence'], ascending=[False]).head(10)\n",
    "    y = topt['Occurence']\n",
    "    plt.grid()\n",
    "    X = range(1, 11)\n",
    "    plt.bar(X,y,color='g')\n",
    "    plt.xlabel('Top negative words')\n",
    "    plt.ylabel('Occurence')\n",
    "    plt.title('Frequency of top 10 negative words')\n",
    "    plt.xticks(X,topt['Word'],rotation=90)\n",
    "    \n",
    "def print_top_pos_words():    \n",
    "    # Print top positive words\n",
    "    vect = TfidfVectorizer(stop_words='english',analyzer=\"word\",min_df = 2, max_df = 0.8)\n",
    "    filt = dft[dft['target'] == 1]\n",
    "    data_dtm = vect.fit_transform(filt['data'])\n",
    "    feat_dtm = vect.get_feature_names()\n",
    "\n",
    "    # Count words\n",
    "    freq_tbl=pd.DataFrame({'Word':feat_dtm,'Occurence':np.asarray(data_dtm.sum(axis=0)).ravel().tolist()})\n",
    "    freq_tbl['Word']=freq_tbl['Word'].str.strip()\n",
    "\n",
    "    # Print top positive words\n",
    "    topt = freq_tbl.sort(['Occurence'], ascending=[False]).head(10)\n",
    "    y = topt['Occurence']\n",
    "    plt.grid()\n",
    "    X = range(1, 11)\n",
    "    plt.bar(X,y,color='g')\n",
    "    plt.xlabel('Top positive words')\n",
    "    plt.ylabel('Occurence')\n",
    "    plt.title('Frequency of top 10 positive words')\n",
    "    plt.xticks(X,topt['Word'],rotation=90)\n",
    "\n",
    "\n",
    "plt.figure(1,figsize=(16, 16))\n",
    "plt.subplot(251)\n",
    "print_top_words()  \n",
    "plt.subplot(253)\n",
    "print_top_pos_words()\n",
    "plt.subplot(255)\n",
    "print_top_neg_words()"
   ]
  },
  {
   "cell_type": "markdown",
   "metadata": {},
   "source": [
    "## Performance Measure using multiple classifiers\n",
    "### Performance Parameters: Accuracy, Precision, Recall, F1\n",
    "### Classifiers: Naive Bayes, Logistic Regression, Decision Tree, Random Forest, Linear SVC, ADA Boost\n",
    "### Validation: Cross Validation with KFold=10"
   ]
  },
  {
   "cell_type": "code",
   "execution_count": null,
   "metadata": {
    "collapsed": false,
    "scrolled": true
   },
   "outputs": [],
   "source": [
    "%%time\n",
    "from sklearn.cross_validation import train_test_split\n",
    "from sklearn.naive_bayes import MultinomialNB\n",
    "from sklearn.linear_model import LogisticRegression\n",
    "from sklearn.tree import DecisionTreeClassifier\n",
    "from sklearn.ensemble import RandomForestClassifier,AdaBoostClassifier\n",
    "from sklearn.svm import LinearSVC\n",
    "from sklearn.model_selection import cross_val_score\n",
    "from collections import defaultdict\n",
    "from sklearn import metrics\n",
    "#from sklearn.feature_extraction.text import CountVectorizer\n",
    "\n",
    "#Tfid shows less accuracy\n",
    "from sklearn.feature_extraction.text import TfidfVectorizer\n",
    "\n",
    "X=dft['data']\n",
    "y=dft['target']\n",
    "\n",
    "arr_Accu=[]\n",
    "\n",
    "#Using train_test_split\n",
    "#Selecting the best random state and comapring the accuracy using Naive Bayes\n",
    "#r = 20\n",
    "#for i in range(1,r):\n",
    "    \n",
    "X_train, X_test, y_train, y_test = train_test_split(X, y, train_size=0.67)\n",
    "\n",
    "vect = TfidfVectorizer(stop_words='english',analyzer=\"word\",min_df = 2, max_df = 0.8, ngram_range = (1, 4))\n",
    "X_train_dtm = vect.fit_transform(X_train)\n",
    "X_test_dtm = vect.transform(X_test)\n",
    "feat_dtm = vect.get_feature_names()\n",
    "#feat_dtm\n",
    "\n",
    "classifiers = defaultdict()\n",
    "classifiers['Naive Bayes'] = MultinomialNB()\n",
    "classifiers['Logistic Regression'] = LogisticRegression()\n",
    "classifiers['Decision Tree'] = DecisionTreeClassifier(random_state=0)\n",
    "classifiers['Random Forest'] = RandomForestClassifier(criterion='entropy')\n",
    "classifiers['ADA Boost'] = AdaBoostClassifier()\n",
    "classifiers['Linear SVC'] = LinearSVC()\n",
    "classifiers_performance = defaultdict(lambda: defaultdict(lambda: 0))\n",
    "\n",
    "scoring = ['accuracy','precision','recall','f1']\n",
    "for key in classifiers:\n",
    "    for score in scoring:\n",
    "        classifiers_performance[key][score] = np.mean(cross_val_score(classifiers[key],X_train_dtm,y_train,cv=10,scoring=score))"
   ]
  },
  {
   "cell_type": "markdown",
   "metadata": {},
   "source": [
    "## Comparison of classifiers including Random Prediction"
   ]
  },
  {
   "cell_type": "code",
   "execution_count": 40,
   "metadata": {
    "collapsed": false
   },
   "outputs": [
    {
     "data": {
      "text/plain": [
       "<Container object of 8 artists>"
      ]
     },
     "execution_count": 40,
     "metadata": {},
     "output_type": "execute_result"
    },
    {
     "data": {
      "image/png": "[encoded data removed]",
      "text/plain": [
       "<matplotlib.figure.Figure at 0x28ed0c59f28>"
      ]
     },
     "metadata": {},
     "output_type": "display_data"
    }
   ],
   "source": [
    "# Predict performance of random prediction. Testing for positive classes.\n",
    "y_random_pred_pos = np.ones(y_train.shape[0])\n",
    "\n",
    "# Predict performance of majority class prediction. Testing for negative classes.\n",
    "y_random_pred_neg = np.zeros(y_train.shape[0])\n",
    "\n",
    "acc = list()\n",
    "precision = list()\n",
    "rec = list()\n",
    "f1 = list()\n",
    "\n",
    "plt.grid()\n",
    "\n",
    "plt.figure(1,figsize=(12, 20),dpi=80)\n",
    "\n",
    "scoring = ['accuracy','precision','recall','f1']\n",
    "classifier_l = ['Naive Bayes','Logistic Regression','Decision Tree','Random Forest','ADA Boost','Linear SVC']\n",
    "X = range(1, 9)\n",
    "\n",
    "for clf in classifier_l:\n",
    "        acc.append(classifiers_performance[clf]['accuracy'])\n",
    "        precision.append(classifiers_performance[clf]['precision'])\n",
    "        rec.append(classifiers_performance[clf]['recall'])\n",
    "        f1.append(classifiers_performance[clf]['f1'])\n",
    "\n",
    "classifier_l.append('Random Positive')\n",
    "acc.append(metrics.accuracy_score(y_train, y_random_pred_pos))\n",
    "precision.append(metrics.precision_score(y_train, y_random_pred_pos))\n",
    "rec.append(metrics.recall_score(y_train, y_random_pred_pos))\n",
    "f1.append(metrics.f1_score(y_train, y_random_pred_pos))\n",
    "\n",
    "classifier_l.append('Random Negative')\n",
    "acc.append(metrics.accuracy_score(y_train, y_random_pred_neg))\n",
    "precision.append(metrics.precision_score(y_train, y_random_pred_neg))\n",
    "rec.append(metrics.recall_score(y_train, y_random_pred_neg))\n",
    "f1.append(metrics.f1_score(y_train, y_random_pred_neg))\n",
    "        \n",
    "plt.subplot(141)\n",
    "plt.subplots_adjust(wspace=4)\n",
    "plt.tight_layout()\n",
    "plt.xticks(X,classifier_l,rotation=90)\n",
    "plt.title('Accuracy')\n",
    "plt.ylim(0,1.2)\n",
    "plt.bar(X,acc,color='g')\n",
    "\n",
    "plt.subplot(142)\n",
    "plt.xticks(X,classifier_l,rotation=90)\n",
    "plt.title('Precision')\n",
    "plt.ylim(0,1.2)\n",
    "plt.bar(X,precision,color='g')\n",
    "\n",
    "plt.subplot(143)\n",
    "plt.xticks(X,classifier_l,rotation=90)\n",
    "plt.title('Recall')\n",
    "plt.ylim(0,1.2)\n",
    "plt.bar(X,rec,color='g')\n",
    "\n",
    "plt.subplot(144)\n",
    "plt.xticks(X,classifier_l,rotation=90)\n",
    "plt.title('F1')\n",
    "plt.ylim(0,1.2)\n",
    "plt.bar(X,f1,color='g')"
   ]
  },
  {
   "cell_type": "markdown",
   "metadata": {},
   "source": [
    "## Prediction on Test Dataset\n",
    "### Selecting best classifier(runtime) using precision as the critierion"
   ]
  },
  {
   "cell_type": "code",
   "execution_count": 41,
   "metadata": {
    "collapsed": false
   },
   "outputs": [],
   "source": [
    "from sklearn.metrics import classification_report\n",
    "from sklearn.metrics import confusion_matrix,precision_score\n",
    "from collections import defaultdict\n",
    "import time\n",
    "\n",
    "classifiers['Naive Bayes'] = MultinomialNB()\n",
    "classifiers['Logistic Regression'] = LogisticRegression()\n",
    "classifiers['Decision Tree'] = DecisionTreeClassifier(random_state=0)\n",
    "classifiers['Random Forest'] = RandomForestClassifier(criterion='entropy')\n",
    "classifiers['ADA Boost'] = AdaBoostClassifier()\n",
    "classifiers['Linear SVC'] = LinearSVC()\n",
    "target_names = ['Negative', 'Positive']\n",
    "\n",
    "report = defaultdict()\n",
    "matrix = defaultdict()\n",
    "\n",
    "classifier_runtime = list()\n",
    "classifier_names = list()\n",
    "\n",
    "max_precision = 0.0\n",
    "runtime_selected_clf = classifiers['Naive Bayes']\n",
    "for key in classifiers:\n",
    "    start_time = time.time()\n",
    "    classifiers[key].fit(X_train_dtm,y_train)\n",
    "    runtime = time.time() - start_time\n",
    "    classifier_runtime.append(runtime)\n",
    "    classifier_names.append(key)\n",
    "    clf_predictions = classifiers[key].predict(X_test_dtm)\n",
    "    sc = precision_score(y_test,clf_predictions)\n",
    "    if(sc > max_precision):\n",
    "        max_precision = sc\n",
    "        runtime_selected_clf = classifiers[key]\n",
    "    report[key] = classification_report(y_test, clf_predictions, target_names=target_names)\n",
    "    matrix[key] = confusion_matrix(y_test, clf_predictions)"
   ]
  },
  {
   "cell_type": "code",
   "execution_count": null,
   "metadata": {
    "collapsed": true
   },
   "outputs": [],
   "source": [
    ""
   ]
  },
  {
   "cell_type": "markdown",
   "metadata": {},
   "source": [
    "## Classifier Runtime, Report and Confusion Matrix"
   ]
  },
  {
   "cell_type": "code",
   "execution_count": 42,
   "metadata": {
    "collapsed": false
   },
   "outputs": [
    {
     "data": {
      "text/plain": [
       "([<matplotlib.axis.XTick at 0x28ed50b8080>,\n",
       "  <matplotlib.axis.XTick at 0x28ecae7b6a0>,\n",
       "  <matplotlib.axis.XTick at 0x28eda858630>,\n",
       "  <matplotlib.axis.XTick at 0x28ec97d3828>,\n",
       "  <matplotlib.axis.XTick at 0x28ecb30ab00>,\n",
       "  <matplotlib.axis.XTick at 0x28ed7fc7cc0>],\n",
       " <a list of 6 Text xticklabel objects>)"
      ]
     },
     "execution_count": 42,
     "metadata": {},
     "output_type": "execute_result"
    },
    {
     "data": {
      "image/png": "[encoded data removed]",
      "text/plain": [
       "<matplotlib.figure.Figure at 0x28ecb302c50>"
      ]
     },
     "metadata": {},
     "output_type": "display_data"
    }
   ],
   "source": [
    "x=range(1,(len(classifier_runtime)+1))\n",
    "plt.figure(1,figsize=(14, 5))\n",
    "\n",
    "plt.subplot(133)\n",
    "plt.xlabel('Classifier')\n",
    "plt.ylabel('Classifier Runtime')\n",
    "plt.plot(x, classifier_runtime,color='g')\n",
    "plt.xticks(x,classifier_names,rotation=90)"
   ]
  },
  {
   "cell_type": "code",
   "execution_count": 43,
   "metadata": {
    "collapsed": false
   },
   "outputs": [
    {
     "name": "stdout",
     "output_type": "stream",
     "text": [
      "Performance Measure for Naive Bayes: \n",
      "             precision    recall  f1-score   support\n",
      "\n",
      "   Negative       0.88      0.86      0.87      4123\n",
      "   Positive       0.86      0.88      0.87      4127\n",
      "\n",
      "avg / total       0.87      0.87      0.87      8250\n",
      "\n"
     ]
    },
    {
     "data": {
      "text/plain": [
       "<matplotlib.text.Text at 0x28ed8adbeb8>"
      ]
     },
     "execution_count": 43,
     "metadata": {},
     "output_type": "execute_result"
    },
    {
     "data": {
      "image/png": "[encoded data removed]",
      "text/plain": [
       "<matplotlib.figure.Figure at 0x28ec9005a58>"
      ]
     },
     "metadata": {},
     "output_type": "display_data"
    }
   ],
   "source": [
    "print('Performance Measure for Naive Bayes: ')\n",
    "print(report['Naive Bayes'])\n",
    "plt.matshow(matrix['Naive Bayes'], cmap=plt.cm.binary, interpolation='nearest')\n",
    "plt.title('confusion matrix')\n",
    "plt.colorbar()\n",
    "plt.ylabel('expected label')\n",
    "plt.xlabel('predicted label')"
   ]
  },
  {
   "cell_type": "code",
   "execution_count": 44,
   "metadata": {
    "collapsed": false
   },
   "outputs": [
    {
     "name": "stdout",
     "output_type": "stream",
     "text": [
      "Performance Measure for Logistic Regression: \n",
      "             precision    recall  f1-score   support\n",
      "\n",
      "   Negative       0.89      0.86      0.87      4123\n",
      "   Positive       0.86      0.89      0.88      4127\n",
      "\n",
      "avg / total       0.88      0.88      0.88      8250\n",
      "\n"
     ]
    },
    {
     "data": {
      "text/plain": [
       "<matplotlib.text.Text at 0x28eda8792b0>"
      ]
     },
     "execution_count": 44,
     "metadata": {},
     "output_type": "execute_result"
    },
    {
     "data": {
      "image/png": "[encoded data removed]",
      "text/plain": [
       "<matplotlib.figure.Figure at 0x28eda845a20>"
      ]
     },
     "metadata": {},
     "output_type": "display_data"
    }
   ],
   "source": [
    "print('Performance Measure for Logistic Regression: ')\n",
    "print(report['Logistic Regression'])\n",
    "plt.matshow(matrix['Logistic Regression'], cmap=plt.cm.binary, interpolation='nearest')\n",
    "plt.title('confusion matrix')\n",
    "plt.colorbar()\n",
    "plt.ylabel('expected label')\n",
    "plt.xlabel('predicted label')"
   ]
  },
  {
   "cell_type": "code",
   "execution_count": 45,
   "metadata": {
    "collapsed": false
   },
   "outputs": [
    {
     "name": "stdout",
     "output_type": "stream",
     "text": [
      "Performance Measure for Decision Tree: \n",
      "             precision    recall  f1-score   support\n",
      "\n",
      "   Negative       0.71      0.70      0.71      4123\n",
      "   Positive       0.71      0.71      0.71      4127\n",
      "\n",
      "avg / total       0.71      0.71      0.71      8250\n",
      "\n"
     ]
    },
    {
     "data": {
      "text/plain": [
       "<matplotlib.text.Text at 0x28ed38614e0>"
      ]
     },
     "execution_count": 45,
     "metadata": {},
     "output_type": "execute_result"
    },
    {
     "data": {
      "image/png": "[encoded data removed]",
      "text/plain": [
       "<matplotlib.figure.Figure at 0x28edd02a2e8>"
      ]
     },
     "metadata": {},
     "output_type": "display_data"
    }
   ],
   "source": [
    "print('Performance Measure for Decision Tree: ')\n",
    "print(report['Decision Tree'])\n",
    "plt.matshow(matrix['Decision Tree'], cmap=plt.cm.binary, interpolation='nearest')\n",
    "plt.title('confusion matrix')\n",
    "plt.colorbar()\n",
    "plt.ylabel('expected label')\n",
    "plt.xlabel('predicted label')"
   ]
  },
  {
   "cell_type": "code",
   "execution_count": 46,
   "metadata": {
    "collapsed": false
   },
   "outputs": [
    {
     "name": "stdout",
     "output_type": "stream",
     "text": [
      "Performance Measure for SVC: \n",
      "             precision    recall  f1-score   support\n",
      "\n",
      "   Negative       0.90      0.87      0.89      4123\n",
      "   Positive       0.88      0.90      0.89      4127\n",
      "\n",
      "avg / total       0.89      0.89      0.89      8250\n",
      "\n"
     ]
    },
    {
     "data": {
      "text/plain": [
       "<matplotlib.text.Text at 0x28ee9adcdd8>"
      ]
     },
     "execution_count": 46,
     "metadata": {},
     "output_type": "execute_result"
    },
    {
     "data": {
      "image/png": "[encoded data removed]",
      "text/plain": [
       "<matplotlib.figure.Figure at 0x28edcc8bef0>"
      ]
     },
     "metadata": {},
     "output_type": "display_data"
    }
   ],
   "source": [
    "print('Performance Measure for SVC: ')\n",
    "print(report['Linear SVC'])\n",
    "plt.matshow(matrix['Linear SVC'], cmap=plt.cm.binary, interpolation='nearest')\n",
    "plt.title('confusion matrix')\n",
    "plt.colorbar()\n",
    "plt.ylabel('expected label')\n",
    "plt.xlabel('predicted label')"
   ]
  },
  {
   "cell_type": "code",
   "execution_count": 47,
   "metadata": {
    "collapsed": false
   },
   "outputs": [
    {
     "name": "stdout",
     "output_type": "stream",
     "text": [
      "Performance Measure for Random Forest: \n",
      "             precision    recall  f1-score   support\n",
      "\n",
      "   Negative       0.73      0.82      0.77      4123\n",
      "   Positive       0.79      0.69      0.74      4127\n",
      "\n",
      "avg / total       0.76      0.76      0.75      8250\n",
      "\n"
     ]
    },
    {
     "data": {
      "text/plain": [
       "<matplotlib.text.Text at 0x28ecb9892b0>"
      ]
     },
     "execution_count": 47,
     "metadata": {},
     "output_type": "execute_result"
    },
    {
     "data": {
      "image/png": "[encoded data removed]",
      "text/plain": [
       "<matplotlib.figure.Figure at 0x28ecbe97438>"
      ]
     },
     "metadata": {},
     "output_type": "display_data"
    }
   ],
   "source": [
    "print('Performance Measure for Random Forest: ')\n",
    "print(report['Random Forest'])\n",
    "plt.matshow(matrix['Random Forest'], cmap=plt.cm.binary, interpolation='nearest')\n",
    "plt.title('confusion matrix')\n",
    "plt.colorbar()\n",
    "plt.ylabel('expected label')\n",
    "plt.xlabel('predicted label')"
   ]
  },
  {
   "cell_type": "code",
   "execution_count": 48,
   "metadata": {
    "collapsed": false
   },
   "outputs": [
    {
     "name": "stdout",
     "output_type": "stream",
     "text": [
      "Performance Measure for ADA Boost: \n",
      "             precision    recall  f1-score   support\n",
      "\n",
      "   Negative       0.82      0.77      0.79      4123\n",
      "   Positive       0.78      0.83      0.81      4127\n",
      "\n",
      "avg / total       0.80      0.80      0.80      8250\n",
      "\n"
     ]
    },
    {
     "data": {
      "text/plain": [
       "<matplotlib.text.Text at 0x28ededd08d0>"
      ]
     },
     "execution_count": 48,
     "metadata": {},
     "output_type": "execute_result"
    },
    {
     "data": {
      "image/png": "[encoded data removed]",
      "text/plain": [
       "<matplotlib.figure.Figure at 0x28ed9c82470>"
      ]
     },
     "metadata": {},
     "output_type": "display_data"
    }
   ],
   "source": [
    "print('Performance Measure for ADA Boost: ')\n",
    "print(report['ADA Boost'])\n",
    "plt.matshow(matrix['ADA Boost'], cmap=plt.cm.binary, interpolation='nearest')\n",
    "plt.title('confusion matrix')\n",
    "plt.colorbar()\n",
    "plt.ylabel('expected label')\n",
    "plt.xlabel('predicted label')"
   ]
  },
  {
   "cell_type": "markdown",
   "metadata": {},
   "source": [
    "## Coefficients for Classifier which is choosen depending on the highest precision on training set:"
   ]
  },
  {
   "cell_type": "code",
   "execution_count": 49,
   "metadata": {
    "collapsed": false
   },
   "outputs": [],
   "source": [
    "col_sums = X_train_dtm.sum(axis=0).A1\n",
    "top_indices = np.argsort(col_sums)[::-1][:100]\n",
    "top_terms = np.array(feat_dtm)[top_indices]\n",
    "\n",
    "weights = sorted(runtime_selected_clf.coef_[0],reverse=True)[:100]\n",
    "\n",
    "term_weights = list()\n",
    "for i in range(len(top_terms)):\n",
    "    term_weights.append((top_terms[i],weights[i]))"
   ]
  },
  {
   "cell_type": "code",
   "execution_count": 50,
   "metadata": {
    "collapsed": false
   },
   "outputs": [
    {
     "data": {
      "text/plain": [
       "[('movi', 3.5230172945502627),\n",
       " ('film', 3.2969429622278064),\n",
       " ('like', 3.0925769174957334),\n",
       " ('good', 2.6413928289253197),\n",
       " ('watch', 2.517060259379519),\n",
       " ('time', 2.5113666685232263),\n",
       " ('charact', 2.3674195901675725),\n",
       " ('make', 2.3396695836264154),\n",
       " ('stori', 2.3298279261081434),\n",
       " ('realli', 2.2090486272011387),\n",
       " ('bad', 2.0574066803584361),\n",
       " ('scene', 2.0246316795736972),\n",
       " ('great', 1.9494816775730979),\n",
       " ('love', 1.9162259367886367),\n",
       " ('look', 1.882859082213342),\n",
       " ('peopl', 1.849334392120829),\n",
       " ('end', 1.8026942671996318),\n",
       " ('think', 1.7181377857323883),\n",
       " ('act', 1.701959751732337),\n",
       " ('way', 1.6679049504733399),\n",
       " ('play', 1.5999850527416697),\n",
       " ('thing', 1.5502322239634871),\n",
       " ('plot', 1.5407116491817479),\n",
       " ('say', 1.5229531195785551),\n",
       " ('seen', 1.5201148884404525),\n",
       " ('actor', 1.4657199014361075),\n",
       " ('know', 1.4519096782641165),\n",
       " ('year', 1.4297546819834097),\n",
       " ('life', 1.4241786880966234),\n",
       " ('work', 1.4141320282638987),\n",
       " ('best', 1.3753866470528242),\n",
       " ('want', 1.372995020014133),\n",
       " ('come', 1.3724822037040161),\n",
       " ('mani', 1.3597310958120337),\n",
       " ('littl', 1.3509201740546766),\n",
       " ('better', 1.3457500173323744),\n",
       " ('tri', 1.3438744191420742),\n",
       " ('man', 1.3388095612646222),\n",
       " ('perform', 1.3361447500561643),\n",
       " ('feel', 1.3303456373665479),\n",
       " ('funni', 1.3072153341752686),\n",
       " ('enjoy', 1.3030651818595693),\n",
       " ('someth', 1.3015472145529137),\n",
       " ('lot', 1.3013036567954743),\n",
       " ('actual', 1.2791637780293437),\n",
       " ('director', 1.2669576866969237),\n",
       " ('use', 1.2570075773723146),\n",
       " ('music', 1.2569289554672336),\n",
       " ('cast', 1.2410092625505877),\n",
       " ('real', 1.2254243338999085),\n",
       " ('woman', 1.2094902248342478),\n",
       " ('guy', 1.2064771378174135),\n",
       " ('old', 1.2025507175746355),\n",
       " ('star', 1.1932135899950791),\n",
       " ('noth', 1.178151024216094),\n",
       " ('comedi', 1.1767007244783676),\n",
       " ('role', 1.1739478675843182),\n",
       " ('live', 1.1728798417408408),\n",
       " ('girl', 1.1509389146489581),\n",
       " ('origin', 1.1456293210972333),\n",
       " ('horror', 1.1421992106713037),\n",
       " ('thought', 1.1393852767360071),\n",
       " ('believ', 1.124547080829732),\n",
       " ('everi', 1.1237863985036629),\n",
       " ('start', 1.1129667516382353),\n",
       " ('got', 1.1033817758279532),\n",
       " ('wonder', 1.0983754501279692),\n",
       " ('minut', 1.0952651814991146),\n",
       " ('anoth', 1.083211247625449),\n",
       " ('new', 1.0817761311904135),\n",
       " ('day', 1.068874339245325),\n",
       " ('seri', 1.0685440682795511),\n",
       " ('world', 1.0595757195831121),\n",
       " ('action', 1.0562661257471562),\n",
       " ('point', 1.0557457990166277),\n",
       " ('saw', 1.052003381479409),\n",
       " ('direct', 1.0506203069576123),\n",
       " ('set', 1.0447417895341038),\n",
       " ('pretti', 1.0439854223651501),\n",
       " ('famili', 1.0410268376302658),\n",
       " ('line', 1.0375464899947553),\n",
       " ('laugh', 1.0355878005762982),\n",
       " ('kid', 1.0352218391445547),\n",
       " ('quit', 1.0336464059410959),\n",
       " ('script', 1.0289740835890171),\n",
       " ('turn', 1.0264333521322706),\n",
       " ('fan', 1.0240737719910351),\n",
       " ('happen', 1.0218660110180418),\n",
       " ('effect', 1.0125929767757813),\n",
       " ('young', 1.0123686965707965),\n",
       " ('long', 1.0112974033433786),\n",
       " ('big', 1.0014554518567202),\n",
       " ('high', 0.9958198783954364),\n",
       " ('fact', 0.99358770149076436),\n",
       " ('kill', 0.99148189888603644),\n",
       " ('howev', 0.99090022947343448),\n",
       " ('right', 0.9884464895417584),\n",
       " ('bit', 0.98485849407658854),\n",
       " ('need', 0.98427354899711694),\n",
       " ('beauti', 0.98209558001351149)]"
      ]
     },
     "execution_count": 50,
     "metadata": {},
     "output_type": "execute_result"
    }
   ],
   "source": [
    "term_weights"
   ]
  },
  {
   "cell_type": "code",
   "execution_count": null,
   "metadata": {
    "collapsed": true
   },
   "outputs": [],
   "source": [
    ""
   ]
  }
 ],
 "metadata": {
  "anaconda-cloud": {},
  "kernelspec": {
   "display_name": "Python [Root]",
   "language": "python",
   "name": "Python [Root]"
  },
  "language_info": {
   "codemirror_mode": {
    "name": "ipython",
    "version": 3.0
   },
   "file_extension": ".py",
   "mimetype": "text/x-python",
   "name": "python",
   "nbconvert_exporter": "python",
   "pygments_lexer": "ipython3",
   "version": "3.5.2"
  }
 },
 "nbformat": 4,
 "nbformat_minor": 0
}